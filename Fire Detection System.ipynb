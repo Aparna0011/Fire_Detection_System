{
 "cells": [
  {
   "cell_type": "code",
   "execution_count": 39,
   "id": "ec025b02",
   "metadata": {},
   "outputs": [],
   "source": [
    "import cv2\n",
    "import numpy as np\n",
    "import playsound"
   ]
  },
  {
   "cell_type": "code",
   "execution_count": 40,
   "id": "ffa5a69d",
   "metadata": {},
   "outputs": [],
   "source": [
    "Fire_Reported = 0\n",
    "Alarm_Status = False\n",
    "\n",
    "\n",
    "def play_audio():\n",
    "    playsound.playsound(\"alarm-sound.mp3\",True)"
   ]
  },
  {
   "cell_type": "code",
   "execution_count": 41,
   "id": "bcdb01f4",
   "metadata": {},
   "outputs": [
    {
     "name": "stdout",
     "output_type": "stream",
     "text": [
      "Fire is detected\n"
     ]
    }
   ],
   "source": [
    "# fire detection using camera and ringing of alarm\n",
    "\n",
    "video = cv2.VideoCapture(0)\n",
    "while True:\n",
    "    ret,frame = video.read()\n",
    "    frame = cv2.resize(frame,(1000,600))\n",
    "    blur = cv2.GaussianBlur(frame,(15,15),0)\n",
    "    hsv = cv2.cvtColor(blur, cv2.COLOR_BGR2HSV)\n",
    "    \n",
    "    lower = [18,50,50]\n",
    "    upper = [35,255,255]\n",
    "    \n",
    "    lower = np.array(lower,dtype = 'uint8')\n",
    "    upper = np.array(upper,dtype = 'uint8')\n",
    "    \n",
    "    mask = cv2.inRange(hsv,lower,upper)\n",
    "    \n",
    "    output = cv2.bitwise_and(frame, hsv, mask= mask)\n",
    "    \n",
    "    number_of_total = cv2.countNonZero(mask)\n",
    "    if int(number_of_total) > 15000:  # we are measuring the size of fire and we can adjust this threshold\n",
    "        Fire_Reported = Fire_Reported + 1\n",
    "        \n",
    "        if Fire_Reported >= 1:\n",
    "            if Alarm_Status == False:\n",
    "                play_audio()\n",
    "                Alarm_Status = True\n",
    "                print(\"Fire is detected\")\n",
    "                \n",
    "    \n",
    "    if ret == False:\n",
    "        break\n",
    "        \n",
    "    cv2.imshow(\"Output\",output)\n",
    "    if cv2.waitKey(1) & 0xFF == ord('q'):\n",
    "        break\n",
    "        \n",
    "cv2.destroyAllWindows()\n",
    "video.release()"
   ]
  },
  {
   "cell_type": "code",
   "execution_count": 23,
   "id": "8d8639e1",
   "metadata": {},
   "outputs": [],
   "source": [
    "# fire detection using video and ringing of alarm \n",
    "\n",
    "video = cv2.VideoCapture(\"fire_video.mp4\")\n",
    "while True:\n",
    "    ret,frame = video.read()\n",
    "    frame = cv2.resize(frame,(1000,600))\n",
    "    blur = cv2.GaussianBlur(frame,(15,15),0)\n",
    "    hsv = cv2.cvtColor(blur, cv2.COLOR_BGR2HSV)\n",
    "    \n",
    "    lower = [18,50,50]\n",
    "    upper = [35,255,255]\n",
    "    \n",
    "    lower = np.array(lower,dtype = 'uint8')\n",
    "    upper = np.array(upper,dtype = 'uint8')\n",
    "    \n",
    "    mask = cv2.inRange(hsv,lower,upper)\n",
    "    \n",
    "    output = cv2.bitwise_and(frame, hsv, mask= mask)\n",
    "    \n",
    "    number_of_total = cv2.countNonZero(mask)\n",
    "    if int(number_of_total) > 15000:  # we are measuring the size of fire and we can adjust this threshold\n",
    "        Fire_Reported = Fire_Reported + 1\n",
    "        \n",
    "        if Fire_Reported >= 1:\n",
    "            if Alarm_Status == False:\n",
    "                play_audio()\n",
    "                Alarm_Status = True\n",
    "    \n",
    "    if ret == False:\n",
    "        break\n",
    "        \n",
    "    cv2.imshow(\"Output\",output)\n",
    "    if cv2.waitKey(1) & 0xFF == ord('q'):\n",
    "        break\n",
    "        \n",
    "cv2.destroyAllWindows()\n",
    "video.release()"
   ]
  },
  {
   "cell_type": "code",
   "execution_count": null,
   "id": "6d1e273e",
   "metadata": {},
   "outputs": [],
   "source": []
  }
 ],
 "metadata": {
  "kernelspec": {
   "display_name": "Python 3 (ipykernel)",
   "language": "python",
   "name": "python3"
  },
  "language_info": {
   "codemirror_mode": {
    "name": "ipython",
    "version": 3
   },
   "file_extension": ".py",
   "mimetype": "text/x-python",
   "name": "python",
   "nbconvert_exporter": "python",
   "pygments_lexer": "ipython3",
   "version": "3.9.12"
  }
 },
 "nbformat": 4,
 "nbformat_minor": 5
}
